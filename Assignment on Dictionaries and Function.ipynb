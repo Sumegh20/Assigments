{
 "cells": [
  {
   "cell_type": "markdown",
   "id": "e161cc91",
   "metadata": {},
   "source": [
    "### 1.1 Write a Python Program(with class concepts) to find the area of the triangle using the below formula. area = (s*(s-a)*(s-b)*(s-c)) ** 0.5 Function to take the length of the sides of triangle from user should be defined in the parent class and function to calculate the area should be defined in subclass."
   ]
  },
  {
   "cell_type": "code",
   "execution_count": 1,
   "id": "ec1e94d0",
   "metadata": {},
   "outputs": [],
   "source": [
    "class Triangle:\n",
    "    def __init__(self,Side1,Side2,Side3):\n",
    "        self.Side1 = Side1\n",
    "        self.Side2 = Side2\n",
    "        self.Side3 = Side3\n",
    "    \n",
    "    def Area(self):\n",
    "        S = (self.Side1+self.Side2+self.Side3)\n",
    "        \n",
    "        return round((S*(S-self.Side1)*(S-self.Side2)*(S-self.Side3))**0.5,4)"
   ]
  },
  {
   "cell_type": "code",
   "execution_count": 2,
   "id": "1b340be0",
   "metadata": {},
   "outputs": [],
   "source": [
    "t = Triangle(2,3,6)"
   ]
  },
  {
   "cell_type": "code",
   "execution_count": 3,
   "id": "347b9902",
   "metadata": {},
   "outputs": [
    {
     "data": {
      "text/plain": [
       "62.9285"
      ]
     },
     "execution_count": 3,
     "metadata": {},
     "output_type": "execute_result"
    }
   ],
   "source": [
    "t.Area()"
   ]
  },
  {
   "cell_type": "markdown",
   "id": "a427d122",
   "metadata": {},
   "source": [
    "### 1.2 Write a function filter_long_words() that takes a list of words and an integer n and returns the list of words that are longer than n."
   ]
  },
  {
   "cell_type": "code",
   "execution_count": 4,
   "id": "7bec5111",
   "metadata": {},
   "outputs": [],
   "source": [
    "def filter_long_words(n,Words):\n",
    "    Result = []\n",
    "    for i in Words:\n",
    "        if len(i)>n:\n",
    "            Result.append(i)\n",
    "    \n",
    "    return Result\n",
    "    #return [i if len(i)>n for i in Words]\n"
   ]
  },
  {
   "cell_type": "code",
   "execution_count": 5,
   "id": "7c6ddf50",
   "metadata": {},
   "outputs": [],
   "source": [
    "a = ['Sumegh','Nandini','Arnab','Poulami','Bit','Anubhab','Pranta','Asmita','Arpita','Rituparna','Subhabsis','Bijoy']"
   ]
  },
  {
   "cell_type": "code",
   "execution_count": 6,
   "id": "dd6d33f1",
   "metadata": {},
   "outputs": [
    {
     "data": {
      "text/plain": [
       "['Nandini', 'Poulami', 'Anubhab', 'Rituparna', 'Subhabsis']"
      ]
     },
     "execution_count": 6,
     "metadata": {},
     "output_type": "execute_result"
    }
   ],
   "source": [
    "filter_long_words(6,a)"
   ]
  },
  {
   "cell_type": "markdown",
   "id": "ba0c7c3e",
   "metadata": {},
   "source": [
    "### 2.1 Write a Python program using function concept that maps list of words into a list of integers representing the lengths of the corresponding words. Hint: If a list [ ab,cde,erty] is passed on to the python function output should come as [2,3,4] Here 2,3 and 4 are the lengths of the words in the list."
   ]
  },
  {
   "cell_type": "code",
   "execution_count": 7,
   "id": "38ef4d64",
   "metadata": {},
   "outputs": [],
   "source": [
    "def myMap(Sequence):\n",
    "    return [len(i) for i in Sequence]"
   ]
  },
  {
   "cell_type": "code",
   "execution_count": 8,
   "id": "4a50718e",
   "metadata": {},
   "outputs": [],
   "source": [
    "a = ['Sumegh','Nandini','Arnab','Poulami','Bit','Anubhab','Pranta','Asmita','Arpita','Rituparna','Subhabsis','Bijoy']"
   ]
  },
  {
   "cell_type": "code",
   "execution_count": 9,
   "id": "2f6c9c46",
   "metadata": {},
   "outputs": [
    {
     "data": {
      "text/plain": [
       "[6, 7, 5, 7, 3, 7, 6, 6, 6, 9, 9, 5]"
      ]
     },
     "execution_count": 9,
     "metadata": {},
     "output_type": "execute_result"
    }
   ],
   "source": [
    "myMap(a)"
   ]
  },
  {
   "cell_type": "markdown",
   "id": "aaf3e97a",
   "metadata": {},
   "source": [
    "### 2.2 Write a Python function which takes a character (i.e. a string of length 1) and returns True if it is a vowel, False otherwise."
   ]
  },
  {
   "cell_type": "code",
   "execution_count": 10,
   "id": "7785fe36",
   "metadata": {},
   "outputs": [],
   "source": [
    "def isVowel(Character):\n",
    "    Vowels = ['a','e','i','o','u']\n",
    "    if type(Character) == str and len(Character) == 1:\n",
    "        return True if Character.lower() in Vowels else False\n",
    "    else:\n",
    "        print(\"Your input is not a Character\")"
   ]
  },
  {
   "cell_type": "code",
   "execution_count": 11,
   "id": "1a8f96fd",
   "metadata": {
    "scrolled": true
   },
   "outputs": [
    {
     "data": {
      "text/plain": [
       "False"
      ]
     },
     "execution_count": 11,
     "metadata": {},
     "output_type": "execute_result"
    }
   ],
   "source": [
    "isVowel('g')"
   ]
  },
  {
   "cell_type": "code",
   "execution_count": 12,
   "id": "3bdd2fe3",
   "metadata": {},
   "outputs": [
    {
     "data": {
      "text/plain": [
       "True"
      ]
     },
     "execution_count": 12,
     "metadata": {},
     "output_type": "execute_result"
    }
   ],
   "source": [
    "isVowel('E')"
   ]
  },
  {
   "cell_type": "code",
   "execution_count": 13,
   "id": "fb41a7ae",
   "metadata": {},
   "outputs": [
    {
     "name": "stdout",
     "output_type": "stream",
     "text": [
      "Your input is not a Character\n"
     ]
    }
   ],
   "source": [
    "isVowel(1)"
   ]
  },
  {
   "cell_type": "code",
   "execution_count": 14,
   "id": "53dead52",
   "metadata": {},
   "outputs": [
    {
     "name": "stdout",
     "output_type": "stream",
     "text": [
      "Your input is not a Character\n"
     ]
    }
   ],
   "source": [
    "isVowel('Abc')"
   ]
  },
  {
   "cell_type": "code",
   "execution_count": null,
   "id": "f031962f",
   "metadata": {},
   "outputs": [],
   "source": []
  }
 ],
 "metadata": {
  "kernelspec": {
   "display_name": "Python 3",
   "language": "python",
   "name": "python3"
  },
  "language_info": {
   "codemirror_mode": {
    "name": "ipython",
    "version": 3
   },
   "file_extension": ".py",
   "mimetype": "text/x-python",
   "name": "python",
   "nbconvert_exporter": "python",
   "pygments_lexer": "ipython3",
   "version": "3.8.8"
  }
 },
 "nbformat": 4,
 "nbformat_minor": 5
}
